{
 "cells": [
  {
   "cell_type": "code",
   "execution_count": 1,
   "metadata": {},
   "outputs": [],
   "source": [
    "import numpy as np\n",
    "from scipy.linalg import lstsq\n",
    "from scipy.stats import pearsonr"
   ]
  },
  {
   "cell_type": "code",
   "execution_count": 18,
   "metadata": {},
   "outputs": [],
   "source": [
    "def shift(x, by=0):\n",
    "    \"\"\"\n",
    "    Shift variable by a number of time steps.\n",
    "    \n",
    "    Parameters\n",
    "    ----------\n",
    "    by : int\n",
    "        Number of steps to shift by.\n",
    "    \n",
    "    Returns\n",
    "    -------\n",
    "    numpy.array\n",
    "        Shifted series\n",
    "    \"\"\"\n",
    "    x_shift = np.empty_like(x)\n",
    "    if by == 0:\n",
    "        return x\n",
    "    elif by > 0:\n",
    "        x_shift[:by] = np.nan\n",
    "        x_shift[by:] = x[:-by]\n",
    "    else:\n",
    "        x_shift[by:] = np.nan\n",
    "        x_shift[:by] = x[-by:]\n",
    "    return x_shift\n",
    "\n",
    "def partial_xcorr(x, y, max_lag=10, standardize=True):\n",
    "    \"\"\"\n",
    "    Computes partial cross correlation between x and y using linear regression.\n",
    "    \n",
    "    Parameters\n",
    "    ----------\n",
    "    x : numpy.array\n",
    "        First variable to compute correlation for.\n",
    "    y : numpy.array\n",
    "        Second variable to compute correlation for.\n",
    "    max_lag : Optional[int]\n",
    "        Number of time lags to compute correlations for, defaults to 10.\n",
    "    standardize : Optional[bool]\n",
    "        Standardize / scale x and y variables, defaults to True\n",
    "        \n",
    "    Returns\n",
    "    -------\n",
    "    list\n",
    "        List of correlation coefficients for each lag.\n",
    "    \"\"\"\n",
    "\n",
    "    # Standardize x and y and stack into matrix\n",
    "    if standardize:\n",
    "        x = (x - np.mean(x)) / np.std(x)\n",
    "        y = (y - np.mean(y)) / np.std(y)\n",
    "    \n",
    "    # Initialize feature matrix\n",
    "    nlags = max_lag + 1\n",
    "    X = np.zeros((len(x), nlags))\n",
    "    X[:, 0] = x\n",
    "\n",
    "    # Initialize correlations, first is y ~ x\n",
    "    xcorr = np.zeros(nlags, dtype=np.float)\n",
    "    xcorr[0] = pearsonr(x, y)[0]\n",
    "    \n",
    "    # Process lags\n",
    "    for lag in range(1, nlags):\n",
    "        # Add lag to matrix\n",
    "        X[:, lag] = shift(x, lag)\n",
    "\n",
    "        # Trim NaNs from y (yt), current lag (l) and previous lags (Z)\n",
    "        yt = y[lag:]\n",
    "        l = X[lag:, lag:lag+1]\n",
    "        Z = X[lag:, 0:lag]\n",
    "    \n",
    "        # Coefficients and residuals for y ~ Z\n",
    "        beta_l = lstsq(Z, yt)[0]\n",
    "        resid_l = yt - Z.dot(beta_l)\n",
    "        \n",
    "        # Coefficient and residuals for l ~ Z\n",
    "        beta_Z = lstsq(Z, l)[0]\n",
    "        resid_Z = l - Z.dot(beta_Z)\n",
    "        \n",
    "        # Compute correlation between residuals\n",
    "        xcorr[lag] = pearsonr(resid_l, resid_Z.ravel())[0]\n",
    "\n",
    "    return xcorr\n"
   ]
  },
  {
   "cell_type": "code",
   "execution_count": 24,
   "metadata": {},
   "outputs": [],
   "source": [
    "# Set coefficients\n",
    "betas = np.array([40, 0, 0, 0, 50, 0, 45, 0, 0])"
   ]
  },
  {
   "cell_type": "code",
   "execution_count": 25,
   "metadata": {},
   "outputs": [],
   "source": [
    "# Draw x values\n",
    "x = np.random.normal(0, 5, 150).astype(float)"
   ]
  },
  {
   "cell_type": "code",
   "execution_count": 26,
   "metadata": {},
   "outputs": [],
   "source": [
    "# Construct matrix of lags\n",
    "lags = len(betas) - 1\n",
    "X = np.zeros((len(x), lags + 1))\n",
    "for lag in range(0, lags + 1):\n",
    "    X[:, lag] = shift(x, lag)\n",
    "X = X[lags:]"
   ]
  },
  {
   "cell_type": "code",
   "execution_count": 27,
   "metadata": {},
   "outputs": [],
   "source": [
    "# Generate y and trim x\n",
    "y = X.dot(betas)\n",
    "x = x[lags:]"
   ]
  },
  {
   "cell_type": "code",
   "execution_count": 28,
   "metadata": {},
   "outputs": [
    {
     "data": {
      "text/plain": [
       "array([ 0.58, -0.13, -0.12, -0.09,  0.7 , -0.09,  1.  ,  0.  ,  0.  ])"
      ]
     },
     "execution_count": 28,
     "metadata": {},
     "output_type": "execute_result"
    }
   ],
   "source": [
    "# Show partial correlations\n",
    "# Note: high correlations should match high coefficients\n",
    "np.round(partial_xcorr(x, y, max_lag=lags), 2)"
   ]
  },
  {
   "cell_type": "code",
   "execution_count": null,
   "metadata": {},
   "outputs": [],
   "source": []
  }
 ],
 "metadata": {
  "kernelspec": {
   "display_name": "Python 3",
   "language": "python",
   "name": "python3"
  },
  "language_info": {
   "codemirror_mode": {
    "name": "ipython",
    "version": 3
   },
   "file_extension": ".py",
   "mimetype": "text/x-python",
   "name": "python",
   "nbconvert_exporter": "python",
   "pygments_lexer": "ipython3",
   "version": "3.7.1"
  }
 },
 "nbformat": 4,
 "nbformat_minor": 2
}
